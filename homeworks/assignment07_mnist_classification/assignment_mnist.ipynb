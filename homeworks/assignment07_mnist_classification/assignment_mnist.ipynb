{
 "cells": [
  {
   "attachments": {},
   "cell_type": "markdown",
   "metadata": {},
   "source": [
    "## Домашнее задание №7\n",
    "\n",
    "##### Автор: [Радослав Нейчев](https://www.linkedin.com/in/radoslav-neychev/), @neychev"
   ]
  },
  {
   "cell_type": "code",
   "execution_count": 1,
   "metadata": {},
   "outputs": [],
   "source": [
    "import numpy as np\n",
    "\n",
    "import torch\n",
    "from torch import nn\n",
    "from torch.nn import functional as F\n",
    "from torch.autograd import Variable\n",
    "\n",
    "import torchvision\n",
    "from torchvision.datasets import MNIST\n",
    "\n",
    "from matplotlib import pyplot as plt\n",
    "from IPython.display import clear_output"
   ]
  },
  {
   "attachments": {},
   "cell_type": "markdown",
   "metadata": {},
   "source": [
    "### Задача №1: \n",
    "Обратимся к классической задаче распознавания рукописных цифр. Мы будем работать с набором данных [MNIST](http://yann.lecun.com/exdb/mnist/). В данном задании воспользуемся всем датасетом целиком.\n",
    "\n",
    "__Ваша основная задача: реализовать весь пайплан обучения модели и добиться качества $\\geq 92\\%$ на тестовой выборке.__\n",
    "\n",
    "Код для обучения модели в данном задании отсутствует. Присутствует лишь несколько тестов, которые помогут вам отладить свое решение. За примером можно обратиться к ноутбуку первого занятия.\n",
    "\n",
    "Настоятельно рекомендуем написать код \"с нуля\", лишь поглядывая на готовые примеры, а не просто \"скопировать-вставить\". Это поможет вам в дальнейшем."
   ]
  },
  {
   "cell_type": "code",
   "execution_count": 2,
   "metadata": {},
   "outputs": [
    {
     "data": {
      "text/plain": [
       "Text(0.5, 1.0, 'Image label: 4')"
      ]
     },
     "execution_count": 2,
     "metadata": {},
     "output_type": "execute_result"
    },
    {
     "data": {
      "image/png": "[encoded data removed]",
      "text/plain": [
       "<Figure size 640x480 with 1 Axes>"
      ]
     },
     "metadata": {},
     "output_type": "display_data"
    }
   ],
   "source": [
    "# do not change the code in the block below\n",
    "# __________start of block__________\n",
    "\n",
    "train_mnist_data = MNIST('.', train=True, transform=torchvision.transforms.ToTensor(), download=True)\n",
    "test_mnist_data = MNIST('.', train=False, transform=torchvision.transforms.ToTensor(), download=True)\n",
    "\n",
    "\n",
    "train_data_loader = torch.utils.data.DataLoader(\n",
    "    train_mnist_data,\n",
    "    batch_size=32,\n",
    "    shuffle=True,\n",
    "    num_workers=2\n",
    ")\n",
    "\n",
    "test_data_loader = torch.utils.data.DataLoader(\n",
    "    test_mnist_data,\n",
    "    batch_size=32,\n",
    "    shuffle=False,\n",
    "    num_workers=2\n",
    ")\n",
    "\n",
    "random_batch = next(iter(train_data_loader))\n",
    "_image, _label = random_batch[0][0], random_batch[1][0]\n",
    "plt.figure()\n",
    "plt.imshow(_image.reshape(28, 28))\n",
    "plt.title(f'Image label: {_label}')\n",
    "# __________end of block__________"
   ]
  },
  {
   "attachments": {},
   "cell_type": "markdown",
   "metadata": {},
   "source": [
    "Постройте модель ниже. Пожалуйста, не стройте переусложненную сеть, не стоит делать ее глубже четырех слоев (можно и меньше). Ваша основная задача – обучить модель и получить качество на отложенной (тестовой выборке) не менее 92% accuracy.\n",
    "\n",
    "*Комментарий: для этого достаточно линейных слоев и функций активации.*\n",
    "\n",
    "__Внимание, ваша модель должна быть представлена именно переменной `model`.__"
   ]
  },
  {
   "cell_type": "code",
   "execution_count": 3,
   "metadata": {},
   "outputs": [],
   "source": [
    "class Net(nn.Module):\n",
    "  def __init__(self, input_size, hidden_size, num_classes):\n",
    "    super(Net,self).__init__()\n",
    "    self.fc1 = nn.Linear(input_size, hidden_size)\n",
    "    self.relu = nn.ReLU()\n",
    "    self.fc2 = nn.Linear(hidden_size, num_classes)\n",
    "  \n",
    "  def forward(self,x):\n",
    "    out = self.fc1(x)\n",
    "    out = self.relu(out)\n",
    "    out = self.fc2(out)\n",
    "    return out\n",
    "\n",
    "model = Net(28*28, 500, 10)"
   ]
  },
  {
   "attachments": {},
   "cell_type": "markdown",
   "metadata": {},
   "source": [
    "Локальные тесты для проверки вашей модели доступны ниже:"
   ]
  },
  {
   "cell_type": "code",
   "execution_count": 4,
   "metadata": {},
   "outputs": [
    {
     "name": "stdout",
     "output_type": "stream",
     "text": [
      "Everything seems fine!\n"
     ]
    }
   ],
   "source": [
    "# do not change the code in the block below\n",
    "# __________start of block__________\n",
    "assert model is not None, 'Please, use `model` variable to store your model'\n",
    "\n",
    "try:\n",
    "    x = random_batch[0].reshape(-1, 784)\n",
    "    y = random_batch[1]\n",
    "\n",
    "    # compute outputs given inputs, both are variables\n",
    "    y_predicted = model(x)    \n",
    "except Exception as e:\n",
    "    print('Something is wrong with the model')\n",
    "    raise e\n",
    "    \n",
    "    \n",
    "assert y_predicted.shape[-1] == 10, 'Model should predict 10 logits/probas'\n",
    "\n",
    "print('Everything seems fine!')\n",
    "# __________end of block__________"
   ]
  },
  {
   "attachments": {},
   "cell_type": "markdown",
   "metadata": {},
   "source": [
    "Настройте параметры модели на обучающей выборке. Рекомендуем поработать с различными оптимизаторами."
   ]
  },
  {
   "cell_type": "code",
   "execution_count": 5,
   "metadata": {},
   "outputs": [
    {
     "name": "stdout",
     "output_type": "stream",
     "text": [
      "Epoch [1/5], Step [100/58], Loss: 0.5117\n",
      "Epoch [1/5], Step [200/58], Loss: 0.2442\n",
      "Epoch [1/5], Step [300/58], Loss: 0.3633\n",
      "Epoch [1/5], Step [400/58], Loss: 0.3209\n",
      "Epoch [1/5], Step [500/58], Loss: 0.0507\n",
      "Epoch [1/5], Step [600/58], Loss: 0.1262\n",
      "Epoch [1/5], Step [700/58], Loss: 0.1216\n",
      "Epoch [1/5], Step [800/58], Loss: 0.2537\n",
      "Epoch [1/5], Step [900/58], Loss: 0.0869\n",
      "Epoch [1/5], Step [1000/58], Loss: 0.2565\n",
      "Epoch [1/5], Step [1100/58], Loss: 0.2023\n",
      "Epoch [1/5], Step [1200/58], Loss: 0.1394\n",
      "Epoch [1/5], Step [1300/58], Loss: 0.1576\n",
      "Epoch [1/5], Step [1400/58], Loss: 0.0950\n",
      "Epoch [1/5], Step [1500/58], Loss: 0.1080\n",
      "Epoch [1/5], Step [1600/58], Loss: 0.1320\n",
      "Epoch [1/5], Step [1700/58], Loss: 0.0329\n",
      "Epoch [1/5], Step [1800/58], Loss: 0.1534\n",
      "Epoch [2/5], Step [100/58], Loss: 0.0834\n",
      "Epoch [2/5], Step [200/58], Loss: 0.0372\n",
      "Epoch [2/5], Step [300/58], Loss: 0.1620\n",
      "Epoch [2/5], Step [400/58], Loss: 0.0342\n",
      "Epoch [2/5], Step [500/58], Loss: 0.2921\n",
      "Epoch [2/5], Step [600/58], Loss: 0.1916\n",
      "Epoch [2/5], Step [700/58], Loss: 0.0855\n",
      "Epoch [2/5], Step [800/58], Loss: 0.0755\n",
      "Epoch [2/5], Step [900/58], Loss: 0.1071\n",
      "Epoch [2/5], Step [1000/58], Loss: 0.0285\n",
      "Epoch [2/5], Step [1100/58], Loss: 0.0406\n",
      "Epoch [2/5], Step [1200/58], Loss: 0.1542\n",
      "Epoch [2/5], Step [1300/58], Loss: 0.1322\n",
      "Epoch [2/5], Step [1400/58], Loss: 0.0372\n",
      "Epoch [2/5], Step [1500/58], Loss: 0.0292\n",
      "Epoch [2/5], Step [1600/58], Loss: 0.1915\n",
      "Epoch [2/5], Step [1700/58], Loss: 0.0196\n",
      "Epoch [2/5], Step [1800/58], Loss: 0.0521\n",
      "Epoch [3/5], Step [100/58], Loss: 0.1013\n",
      "Epoch [3/5], Step [200/58], Loss: 0.0394\n",
      "Epoch [3/5], Step [300/58], Loss: 0.0037\n",
      "Epoch [3/5], Step [400/58], Loss: 0.0881\n",
      "Epoch [3/5], Step [500/58], Loss: 0.0830\n",
      "Epoch [3/5], Step [600/58], Loss: 0.1282\n",
      "Epoch [3/5], Step [700/58], Loss: 0.0114\n",
      "Epoch [3/5], Step [800/58], Loss: 0.0167\n",
      "Epoch [3/5], Step [900/58], Loss: 0.0307\n",
      "Epoch [3/5], Step [1000/58], Loss: 0.0278\n",
      "Epoch [3/5], Step [1100/58], Loss: 0.0086\n",
      "Epoch [3/5], Step [1200/58], Loss: 0.0032\n",
      "Epoch [3/5], Step [1300/58], Loss: 0.0466\n",
      "Epoch [3/5], Step [1400/58], Loss: 0.0680\n",
      "Epoch [3/5], Step [1500/58], Loss: 0.0083\n",
      "Epoch [3/5], Step [1600/58], Loss: 0.1213\n",
      "Epoch [3/5], Step [1700/58], Loss: 0.0407\n",
      "Epoch [3/5], Step [1800/58], Loss: 0.0515\n",
      "Epoch [4/5], Step [100/58], Loss: 0.0215\n",
      "Epoch [4/5], Step [200/58], Loss: 0.1034\n",
      "Epoch [4/5], Step [300/58], Loss: 0.0053\n",
      "Epoch [4/5], Step [400/58], Loss: 0.0829\n",
      "Epoch [4/5], Step [500/58], Loss: 0.0374\n",
      "Epoch [4/5], Step [600/58], Loss: 0.0360\n",
      "Epoch [4/5], Step [700/58], Loss: 0.0349\n",
      "Epoch [4/5], Step [800/58], Loss: 0.0265\n",
      "Epoch [4/5], Step [900/58], Loss: 0.0785\n",
      "Epoch [4/5], Step [1000/58], Loss: 0.0100\n",
      "Epoch [4/5], Step [1100/58], Loss: 0.0041\n",
      "Epoch [4/5], Step [1200/58], Loss: 0.0216\n",
      "Epoch [4/5], Step [1300/58], Loss: 0.0186\n",
      "Epoch [4/5], Step [1400/58], Loss: 0.0031\n",
      "Epoch [4/5], Step [1500/58], Loss: 0.0235\n",
      "Epoch [4/5], Step [1600/58], Loss: 0.1026\n",
      "Epoch [4/5], Step [1700/58], Loss: 0.0162\n",
      "Epoch [4/5], Step [1800/58], Loss: 0.0103\n",
      "Epoch [5/5], Step [100/58], Loss: 0.0442\n",
      "Epoch [5/5], Step [200/58], Loss: 0.0036\n",
      "Epoch [5/5], Step [300/58], Loss: 0.0057\n",
      "Epoch [5/5], Step [400/58], Loss: 0.0160\n",
      "Epoch [5/5], Step [500/58], Loss: 0.0060\n",
      "Epoch [5/5], Step [600/58], Loss: 0.1246\n",
      "Epoch [5/5], Step [700/58], Loss: 0.1745\n",
      "Epoch [5/5], Step [800/58], Loss: 0.0018\n",
      "Epoch [5/5], Step [900/58], Loss: 0.0322\n",
      "Epoch [5/5], Step [1000/58], Loss: 0.0151\n",
      "Epoch [5/5], Step [1100/58], Loss: 0.0168\n",
      "Epoch [5/5], Step [1200/58], Loss: 0.0027\n",
      "Epoch [5/5], Step [1300/58], Loss: 0.0990\n",
      "Epoch [5/5], Step [1400/58], Loss: 0.0373\n",
      "Epoch [5/5], Step [1500/58], Loss: 0.0047\n",
      "Epoch [5/5], Step [1600/58], Loss: 0.0424\n",
      "Epoch [5/5], Step [1700/58], Loss: 0.0016\n",
      "Epoch [5/5], Step [1800/58], Loss: 0.0022\n"
     ]
    }
   ],
   "source": [
    "num_epochs = 5\n",
    "lr = 1e-3\n",
    "model = Net(28*28, 500, 10)\n",
    "batch_size=32\n",
    "\n",
    "loss_function = nn.CrossEntropyLoss()\n",
    "optimizer = torch.optim.Adam( model.parameters(), lr=lr)\n",
    "\n",
    "for epoch in range(num_epochs):\n",
    "  for i ,(images, labels) in enumerate(train_data_loader):\n",
    "    images = Variable(images.view(-1,28*28))\n",
    "    labels = Variable(labels)\n",
    "    optimizer.zero_grad()\n",
    "    outputs = model(images)\n",
    "    loss = loss_function(outputs, labels)\n",
    "    loss.backward()\n",
    "    optimizer.step()\n",
    "    \n",
    "    if (i+1) % 100 == 0:\n",
    "      print('Epoch [%d/%d], Step [%d/%d], Loss: %.4f'\n",
    "                 %(epoch+1, num_epochs, i+1, len(train_data_loader)//batch_size, loss.data))"
   ]
  },
  {
   "attachments": {},
   "cell_type": "markdown",
   "metadata": {},
   "source": [
    "Также, напоминаем, что в любой момент можно обратиться к замечательной [документации](https://pytorch.org/docs/stable/index.html) и [обучающим примерам](https://pytorch.org/tutorials/).  "
   ]
  },
  {
   "attachments": {},
   "cell_type": "markdown",
   "metadata": {},
   "source": [
    "Оценим качество классификации:"
   ]
  },
  {
   "cell_type": "code",
   "execution_count": 6,
   "metadata": {},
   "outputs": [],
   "source": [
    "predicted_labels = []\n",
    "real_labels = []\n",
    "model.eval()\n",
    "with torch.no_grad():\n",
    "    for batch in train_data_loader:\n",
    "        y_predicted = model(batch[0].reshape(-1, 784))\n",
    "        predicted_labels.append(y_predicted.argmax(dim=1))\n",
    "        real_labels.append(batch[1])\n",
    "\n",
    "predicted_labels = torch.cat(predicted_labels)\n",
    "real_labels = torch.cat(real_labels)\n",
    "train_acc = (predicted_labels == real_labels).type(torch.FloatTensor).mean()"
   ]
  },
  {
   "cell_type": "code",
   "execution_count": 7,
   "metadata": {},
   "outputs": [
    {
     "name": "stdout",
     "output_type": "stream",
     "text": [
      "Neural network accuracy on train set: 0.99357\n"
     ]
    }
   ],
   "source": [
    "print(f'Neural network accuracy on train set: {train_acc:3.5}')"
   ]
  },
  {
   "cell_type": "code",
   "execution_count": 8,
   "metadata": {},
   "outputs": [],
   "source": [
    "predicted_labels = []\n",
    "real_labels = []\n",
    "model.eval()\n",
    "with torch.no_grad():\n",
    "    for batch in test_data_loader:\n",
    "        y_predicted = model(batch[0].reshape(-1, 784))\n",
    "        predicted_labels.append(y_predicted.argmax(dim=1))\n",
    "        real_labels.append(batch[1])\n",
    "\n",
    "predicted_labels = torch.cat(predicted_labels)\n",
    "real_labels = torch.cat(real_labels)\n",
    "test_acc = (predicted_labels == real_labels).type(torch.FloatTensor).mean()"
   ]
  },
  {
   "cell_type": "code",
   "execution_count": 9,
   "metadata": {},
   "outputs": [
    {
     "name": "stdout",
     "output_type": "stream",
     "text": [
      "Neural network accuracy on test set: 0.9804\n"
     ]
    }
   ],
   "source": [
    "print(f'Neural network accuracy on test set: {test_acc:3.5}')"
   ]
  },
  {
   "attachments": {},
   "cell_type": "markdown",
   "metadata": {},
   "source": [
    "Проверка, что необходимые пороги пройдены:"
   ]
  },
  {
   "cell_type": "code",
   "execution_count": 10,
   "metadata": {},
   "outputs": [],
   "source": [
    "assert test_acc >= 0.92, 'Test accuracy is below 0.92 threshold'\n",
    "assert train_acc >= 0.91, 'Train accuracy is below 0.91 while test accuracy is fine. We recommend to check your model and data flow'"
   ]
  },
  {
   "attachments": {},
   "cell_type": "markdown",
   "metadata": {},
   "source": [
    "### Сдача задания\n",
    "Загрузите файл `hw07_data_dict.npy` (ссылка есть на странице с заданием) и запустите код ниже для генерации посылки. Код ниже может его загрузить (но в случае возникновения ошибки скачайте и загрузите его вручную)."
   ]
  },
  {
   "cell_type": "code",
   "execution_count": 107,
   "metadata": {},
   "outputs": [
    {
     "name": "stdout",
     "output_type": "stream",
     "text": [
      "--2023-11-25 11:38:01--  https://raw.githubusercontent.com/girafe-ai/ml-course/23s_dd_ml/homeworks/hw07_mnist_classification/hw07_data_dict.npy\n",
      "Resolving raw.githubusercontent.com (raw.githubusercontent.com)... 185.199.108.133, 185.199.111.133, 185.199.110.133, ...\n",
      "Connecting to raw.githubusercontent.com (raw.githubusercontent.com)|185.199.108.133|:443... connected.\n",
      "HTTP request sent, awaiting response... 200 OK\n",
      "Length: 6272438 (6,0M) [application/octet-stream]\n",
      "Saving to: ‘hw07_data_dict.npy.1’\n",
      "\n",
      "hw07_data_dict.npy. 100%[===================>]   5,98M  2,52MB/s    in 2,4s    \n",
      "\n",
      "2023-11-25 11:38:09 (2,52 MB/s) - ‘hw07_data_dict.npy.1’ saved [6272438/6272438]\n",
      "\n"
     ]
    }
   ],
   "source": [
    "!wget https://raw.githubusercontent.com/girafe-ai/ml-course/23s_dd_ml/homeworks/hw07_mnist_classification/hw07_data_dict.npy"
   ]
  },
  {
   "cell_type": "code",
   "execution_count": 109,
   "metadata": {},
   "outputs": [
    {
     "name": "stdout",
     "output_type": "stream",
     "text": [
      "File saved to `submission_dict_hw07.npy`\n"
     ]
    }
   ],
   "source": [
    "# do not change the code in the block below\n",
    "# __________start of block__________\n",
    "import os\n",
    "\n",
    "assert os.path.exists('hw07_data_dict.npy'), 'Please, download `hw07_data_dict.npy` and place it in the working directory'\n",
    "\n",
    "def get_predictions(model, eval_data, step=10):\n",
    "    \n",
    "    predicted_labels = []\n",
    "    model.eval()\n",
    "    with torch.no_grad():\n",
    "        for idx in range(0, len(eval_data), step):\n",
    "            y_predicted = model(eval_data[idx:idx+step].reshape(-1, 784))\n",
    "            predicted_labels.append(y_predicted.argmax(dim=1))\n",
    "    \n",
    "    predicted_labels = torch.cat(predicted_labels)\n",
    "    return predicted_labels\n",
    "\n",
    "loaded_data_dict = np.load('hw07_data_dict.npy', allow_pickle=True)\n",
    "\n",
    "submission_dict = {\n",
    "    'train': get_predictions(model, torch.FloatTensor(loaded_data_dict.item()['train'])).numpy(),\n",
    "    'test': get_predictions(model, torch.FloatTensor(loaded_data_dict.item()['test'])).numpy()\n",
    "}\n",
    "\n",
    "np.save('submission_dict_hw07.npy', submission_dict, allow_pickle=True)\n",
    "print('File saved to `submission_dict_hw07.npy`')\n",
    "# __________end of block__________"
   ]
  },
  {
   "attachments": {},
   "cell_type": "markdown",
   "metadata": {},
   "source": [
    "На этом задание завершено. Поздравляем!"
   ]
  }
 ],
 "metadata": {
  "kernelspec": {
   "display_name": "Python 3 (ipykernel)",
   "language": "python",
   "name": "python3"
  },
  "language_info": {
   "codemirror_mode": {
    "name": "ipython",
    "version": 3
   },
   "file_extension": ".py",
   "mimetype": "text/x-python",
   "name": "python",
   "nbconvert_exporter": "python",
   "pygments_lexer": "ipython3",
   "version": "3.11.6"
  }
 },
 "nbformat": 4,
 "nbformat_minor": 4
}
